{
 "cells": [
  {
   "cell_type": "code",
   "execution_count": null,
   "id": "0da257af",
   "metadata": {},
   "outputs": [],
   "source": [
    "#|default_exp linkedlist"
   ]
  },
  {
   "cell_type": "markdown",
   "id": "a0032dc5",
   "metadata": {},
   "source": [
    "# LinkedLists"
   ]
  },
  {
   "cell_type": "markdown",
   "id": "4352b401",
   "metadata": {},
   "source": [
    "A Simple Linked List Class"
   ]
  },
  {
   "cell_type": "code",
   "execution_count": null,
   "id": "0412f0c5",
   "metadata": {},
   "outputs": [],
   "source": [
    "#| export\n",
    "import random"
   ]
  },
  {
   "cell_type": "code",
   "execution_count": null,
   "id": "daf06477",
   "metadata": {},
   "outputs": [],
   "source": [
    "#| export\n",
    "class ListNode:\n",
    "    def __init__(self, \n",
    "                 val: int, #Value of the node\n",
    "                 next=None): #Pointer to the next node\n",
    "        self.val = val\n",
    "        self.next = next\n",
    "        \n",
    "    def __str__(self):\n",
    "        t = self.next\n",
    "        _str = f\"{self.val}-->\"\n",
    "        while t:\n",
    "            _str += f\"{t.val}-->\"\n",
    "            t = t.next\n",
    "        return _str\n",
    "    \n",
    "    __repr__ = __str__"
   ]
  },
  {
   "cell_type": "code",
   "execution_count": null,
   "id": "016aabe8",
   "metadata": {},
   "outputs": [],
   "source": [
    "#| export\n",
    "def make_linked_list(lst):\n",
    "    \"\"\"\n",
    "    This function takes in a list of integers and returns a head ptr of linked list `ListNode` \n",
    "    \"\"\"\n",
    "    lst = lst[::-1]\n",
    "    head = ListNode(lst.pop())\n",
    "    curr = head\n",
    "    while lst:\n",
    "        curr.next = ListNode(lst.pop())\n",
    "        curr = curr.next\n",
    "    return head\n"
   ]
  },
  {
   "cell_type": "code",
   "execution_count": null,
   "id": "2a2927f0",
   "metadata": {},
   "outputs": [],
   "source": [
    "ll = make_linked_list([1,2,1,2,1,3])"
   ]
  },
  {
   "cell_type": "code",
   "execution_count": null,
   "id": "fd17fae6",
   "metadata": {},
   "outputs": [
    {
     "name": "stdout",
     "output_type": "stream",
     "text": [
      "1-->2-->1-->2-->1-->3-->\n"
     ]
    }
   ],
   "source": [
    "print(ll)"
   ]
  },
  {
   "cell_type": "code",
   "execution_count": null,
   "id": "ea26de7c",
   "metadata": {},
   "outputs": [],
   "source": [
    "#| export\n",
    "def reverse_linked_list(ll: ListNode):\n",
    "    \"\"\"\n",
    "    For a given linked list, reverse the list and return it's head pointer\n",
    "    \"\"\"\n",
    "    curr = ll\n",
    "    prev = None\n",
    "    while curr:\n",
    "        t = curr.next\n",
    "        curr.next = prev\n",
    "        prev = curr\n",
    "        curr = t\n",
    "    return prev"
   ]
  },
  {
   "cell_type": "code",
   "execution_count": null,
   "id": "9abec6c0",
   "metadata": {},
   "outputs": [
    {
     "name": "stdout",
     "output_type": "stream",
     "text": [
      "1-->2-->3-->\n"
     ]
    }
   ],
   "source": [
    "ll = make_linked_list([1,2,3])\n",
    "print(ll)"
   ]
  },
  {
   "cell_type": "code",
   "execution_count": null,
   "id": "137f52f1",
   "metadata": {},
   "outputs": [
    {
     "data": {
      "text/plain": [
       "3-->2-->1-->"
      ]
     },
     "execution_count": null,
     "metadata": {},
     "output_type": "execute_result"
    }
   ],
   "source": [
    "reverse_linked_list(ll)"
   ]
  },
  {
   "cell_type": "code",
   "execution_count": null,
   "id": "e8710018",
   "metadata": {},
   "outputs": [],
   "source": [
    "#| export\n",
    "def make_random_linked_list(size: int=None #You can specify the size if you want\n",
    "                           ):\n",
    "    \"\"\"\n",
    "    Make a random linked list of size [1-1000]\n",
    "    \"\"\"\n",
    "    size = random.randint(1, 1000) if size is None else size\n",
    "    _list = random.sample(range(1, 10**6), size)\n",
    "    return make_linked_list(_list)"
   ]
  },
  {
   "cell_type": "code",
   "execution_count": null,
   "id": "0bad5de6",
   "metadata": {},
   "outputs": [
    {
     "data": {
      "text/plain": [
       "436637-->921775-->989828-->632712-->801120-->362495-->1153-->636032-->586361-->800895-->"
      ]
     },
     "execution_count": null,
     "metadata": {},
     "output_type": "execute_result"
    }
   ],
   "source": [
    "make_random_linked_list(10)"
   ]
  },
  {
   "cell_type": "code",
   "execution_count": null,
   "id": "17ae9c0d",
   "metadata": {},
   "outputs": [],
   "source": []
  }
 ],
 "metadata": {
  "hide_input": false,
  "kernelspec": {
   "display_name": "Python 3 (ipykernel)",
   "language": "python",
   "name": "python3"
  },
  "language_info": {
   "codemirror_mode": {
    "name": "ipython",
    "version": 3
   },
   "file_extension": ".py",
   "mimetype": "text/x-python",
   "name": "python",
   "nbconvert_exporter": "python",
   "pygments_lexer": "ipython3",
   "version": "3.8.12"
  }
 },
 "nbformat": 4,
 "nbformat_minor": 5
}
