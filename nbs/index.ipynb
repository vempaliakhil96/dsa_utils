{
 "cells": [
  {
   "cell_type": "markdown",
   "id": "01256756",
   "metadata": {},
   "source": [
    "# Welcome to dsa_utils"
   ]
  },
  {
   "cell_type": "markdown",
   "id": "9910adae",
   "metadata": {},
   "source": [
    "This repo will get continously updated to have all the helper utils for different data structures typically required in for solving DSA problems\n",
    "\n",
    "    1. LinkedList\n",
    "TODO\n",
    "Add support for graphs and trees"
   ]
  },
  {
   "cell_type": "code",
   "execution_count": null,
   "id": "8f3a8cd9",
   "metadata": {},
   "outputs": [],
   "source": []
  }
 ],
 "metadata": {
  "kernelspec": {
   "display_name": "Python 3 (ipykernel)",
   "language": "python",
   "name": "python3"
  }
 },
 "nbformat": 4,
 "nbformat_minor": 5
}
