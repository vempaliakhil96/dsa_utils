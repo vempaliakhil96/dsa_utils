{
 "cells": [
  {
   "cell_type": "code",
   "execution_count": 1,
   "id": "0da257af",
   "metadata": {},
   "outputs": [],
   "source": [
    "#|default_exp linkedlist"
   ]
  },
  {
   "cell_type": "markdown",
   "id": "a760de5e",
   "metadata": {},
   "source": [
    "A Simple Linked List Class"
   ]
  },
  {
   "cell_type": "code",
   "execution_count": 6,
   "id": "daf06477",
   "metadata": {},
   "outputs": [],
   "source": [
    "#| export\n",
    "class ListNode:\n",
    "    def __init__(self, val=0, next=None):\n",
    "        self.val = val\n",
    "        self.next = next\n",
    "        \n",
    "    def __str__(self):\n",
    "        t = self.next\n",
    "        _str = f\"{self.val}-->\"\n",
    "        while t:\n",
    "            _str += f\"{t.val}-->\"\n",
    "            t = t.next\n",
    "        return _str\n",
    "    \n",
    "    __repr__ = __str__\n",
    "\n",
    "def make_ll(lst):\n",
    "    lst = lst[::-1]\n",
    "    head = ListNode(lst.pop())\n",
    "    curr = head\n",
    "    while lst:\n",
    "        curr.next = ListNode(lst.pop())\n",
    "        curr = curr.next\n",
    "    return head"
   ]
  },
  {
   "cell_type": "code",
   "execution_count": 7,
   "id": "5e17a4ba",
   "metadata": {},
   "outputs": [],
   "source": [
    "ll = make_ll([1,2,1,2,1,3])"
   ]
  },
  {
   "cell_type": "code",
   "execution_count": 9,
   "id": "3be081eb",
   "metadata": {},
   "outputs": [
    {
     "name": "stdout",
     "output_type": "stream",
     "text": [
      "1-->2-->1-->2-->1-->3-->\n"
     ]
    }
   ],
   "source": [
    "print(ll)"
   ]
  },
  {
   "cell_type": "code",
   "execution_count": null,
   "id": "016aabe8",
   "metadata": {},
   "outputs": [],
   "source": []
  }
 ],
 "metadata": {
  "hide_input": false,
  "kernelspec": {
   "display_name": "Python 3 (ipykernel)",
   "language": "python",
   "name": "python3"
  },
  "language_info": {
   "codemirror_mode": {
    "name": "ipython",
    "version": 3
   },
   "file_extension": ".py",
   "mimetype": "text/x-python",
   "name": "python",
   "nbconvert_exporter": "python",
   "pygments_lexer": "ipython3",
   "version": "3.8.12"
  }
 },
 "nbformat": 4,
 "nbformat_minor": 5
}
