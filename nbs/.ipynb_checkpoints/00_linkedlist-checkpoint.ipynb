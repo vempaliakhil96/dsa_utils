{
 "cells": [
  {
   "cell_type": "code",
   "execution_count": 1,
   "id": "0da257af",
   "metadata": {},
   "outputs": [],
   "source": [
    "#|default_exp linkedlist"
   ]
  },
  {
   "cell_type": "markdown",
   "id": "84a79ae1",
   "metadata": {},
   "source": [
    "A Simple Linked List Class"
   ]
  },
  {
   "cell_type": "code",
   "execution_count": 16,
   "id": "daf06477",
   "metadata": {},
   "outputs": [],
   "source": [
    "#| export\n",
    "def make_linked_list(lst):\n",
    "    \"\"\"\n",
    "    This function takes in a list of integers and returns a head ptr of linked list `ListNode` \n",
    "    \"\"\"\n",
    "    lst = lst[::-1]\n",
    "    head = ListNode(lst.pop())\n",
    "    curr = head\n",
    "    while lst:\n",
    "        curr.next = ListNode(lst.pop())\n",
    "        curr = curr.next\n",
    "    return head\n",
    "\n",
    "class ListNode:\n",
    "    def __init__(self, \n",
    "                 val: int, #Value of the node\n",
    "                 next=None): #Pointer to the next node\n",
    "        self.val = val\n",
    "        self.next = next\n",
    "        \n",
    "    def __str__(self):\n",
    "        t = self.next\n",
    "        _str = f\"{self.val}-->\"\n",
    "        while t:\n",
    "            _str += f\"{t.val}-->\"\n",
    "            t = t.next\n",
    "        return _str\n",
    "    \n",
    "    __repr__ = __str__"
   ]
  },
  {
   "cell_type": "code",
   "execution_count": 17,
   "id": "5e17a4ba",
   "metadata": {},
   "outputs": [],
   "source": [
    "ll = make_linked_list([1,2,1,2,1,3])"
   ]
  },
  {
   "cell_type": "code",
   "execution_count": 18,
   "id": "3be081eb",
   "metadata": {},
   "outputs": [
    {
     "name": "stdout",
     "output_type": "stream",
     "text": [
      "1-->2-->1-->2-->1-->3-->\n"
     ]
    }
   ],
   "source": [
    "print(ll)"
   ]
  },
  {
   "cell_type": "code",
   "execution_count": 23,
   "id": "016aabe8",
   "metadata": {},
   "outputs": [],
   "source": [
    "#| export\n",
    "def reverse_linked_list(ll: ListNode):\n",
    "    \"\"\"\n",
    "    For a given linked list, reverse the list and return it's head pointer\n",
    "    \"\"\"\n",
    "    curr = ll\n",
    "    prev = None\n",
    "    while curr:\n",
    "        t = curr.next\n",
    "        curr.next = prev\n",
    "        prev = curr\n",
    "        curr = t\n",
    "    return prev"
   ]
  },
  {
   "cell_type": "code",
   "execution_count": 24,
   "id": "010b5ea0",
   "metadata": {},
   "outputs": [
    {
     "name": "stdout",
     "output_type": "stream",
     "text": [
      "1-->2-->3-->\n"
     ]
    }
   ],
   "source": [
    "ll = make_linked_list([1,2,3])\n",
    "print(ll)"
   ]
  },
  {
   "cell_type": "code",
   "execution_count": 25,
   "id": "98c355fe",
   "metadata": {},
   "outputs": [
    {
     "data": {
      "text/plain": [
       "3-->2-->1-->"
      ]
     },
     "execution_count": 25,
     "metadata": {},
     "output_type": "execute_result"
    }
   ],
   "source": [
    "reverse_linked_list(ll)"
   ]
  },
  {
   "cell_type": "code",
   "execution_count": null,
   "id": "1a912540",
   "metadata": {},
   "outputs": [],
   "source": []
  }
 ],
 "metadata": {
  "hide_input": false,
  "kernelspec": {
   "display_name": "Python 3 (ipykernel)",
   "language": "python",
   "name": "python3"
  },
  "language_info": {
   "codemirror_mode": {
    "name": "ipython",
    "version": 3
   },
   "file_extension": ".py",
   "mimetype": "text/x-python",
   "name": "python",
   "nbconvert_exporter": "python",
   "pygments_lexer": "ipython3",
   "version": "3.8.12"
  }
 },
 "nbformat": 4,
 "nbformat_minor": 5
}
