{
 "cells": [
  {
   "cell_type": "markdown",
   "id": "01256756",
   "metadata": {},
   "source": [
    "# Welcome to dsa_utils"
   ]
  },
  {
   "cell_type": "markdown",
   "id": "9910adae",
   "metadata": {},
   "source": [
    "This repo will get continously updated to have all the helper utils for different data structures typically required in for solving DSA problems\n",
    "\n",
    "    1. LinkedList\n",
    "TODO\n",
    "Add support for graphs and trees"
   ]
  },
  {
   "cell_type": "code",
   "execution_count": null,
   "id": "8f3a8cd9",
   "metadata": {},
   "outputs": [],
   "source": []
  }
 ],
 "metadata": {
  "hide_input": false,
  "kernelspec": {
   "display_name": "Python 3 (ipykernel)",
   "language": "python",
   "name": "python3"
  },
  "language_info": {
   "codemirror_mode": {
    "name": "ipython",
    "version": 3
   },
   "file_extension": ".py",
   "mimetype": "text/x-python",
   "name": "python",
   "nbconvert_exporter": "python",
   "pygments_lexer": "ipython3",
   "version": "3.8.12"
  }
 },
 "nbformat": 4,
 "nbformat_minor": 5
}
